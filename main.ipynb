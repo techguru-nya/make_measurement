{
 "cells": [
  {
   "cell_type": "code",
   "execution_count": 1,
   "metadata": {},
   "outputs": [],
   "source": [
    "import make_measurement as cfg"
   ]
  },
  {
   "cell_type": "code",
   "execution_count": 4,
   "metadata": {},
   "outputs": [],
   "source": [
    "DIR = 'c:\\\\mt\\\\Honda\\\\3DAA\\\\HILS\\\\'\n",
    "\n",
    "# FILE_A2L = f'{DIR}APL_Asap_BB88667_15030300_ESP103DAA88667XCP_XCP.a2l'\n",
    "# FILE_OUT = f'{DIR}3DAA_BB88667_15030300_ESP103DAA88667.cfg'\n",
    "\n",
    "FILE_A2L = f'{DIR}APL_Asap_BB89921_16020200_ESP1034AA89921XCP_XCP.a2l'\n",
    "FILE_OUT = f'{DIR}34AA_BB89921_16020200_ESP1034AA89921.cfg'\n",
    "\n",
    "PLT_LIST = [f'{DIR}BfmDecoderESP.PLT', f'{DIR}BfmDecoderESP.PLT', f'{DIR}BfmDecoderESP.PLT']\n",
    "\n",
    "l_REMOVE_w_FUN = ['ABP20ms', 'ACM_ESP9_Mc_DS10_20ms', 'ACM_ESP9_Mc_DS10_5ms', 'ADCMeasureValue', 'AEB5ms', 'AEBPre5ms_Esp', 'AID5ms', 'APB_BSW_Ctrl_20ms', 'APB_Coor_Centralized', 'APB_Ctrl_20ms', 'APB_Hsb_10ms', 'APB_Mon_20ms', 'APB_Sic_5ms', 'APB_Wrp_10ms', 'ActValue1', 'ActValue1_Ampere', 'ActValue2', 'ActValue2_Ampere',\n",
    "                  'BAT_Request_Converter_HFA', 'BB87973_09000800_ESP10DG8B87973XCP_Calibration_No_Parameters_0', 'BB88667_15030300_ESP103DAA88667XCP_Calibration_No_Parameters_0','BTM120ms', 'Boost_Postprocessing_Main', 'Boost_Preprocessing_Main', 'CM_AEB', '_Body_34AA_KA_FWD_0_0_1_1_0_0', '_Body_34AA_KA_FWD_0_0_0_0_0_0', '_Body_34AA_KA_FWD_0_0_0_0_1_1', '_Body_34AA_KA_FWD_0_0_1_1_2_2', '_Body_34AA_KA_FWD_0_1_0_1_0_1', 'BB89921_16020200_ESP1034AA89921XCP_Calibration_No_Parameters_0',\n",
    "                  'CM_APB_HONDA', 'CM_EBP5ms_AxleSplit', 'CM_HDC_Postprocessing', 'CM_HDC_Preprocessing_Extended', 'CM_HDC_vDes', 'CM_HHCPlus', 'CM_HSM', 'CM_INS_SignalExport', 'CM_LDI4HondaMMS', 'CM_LDM_With_AxleSplit', 'CM_LTM', 'CM_PT_Honda_AxleSplitModel_2IFActuator', 'CM_SASClass3_N3C3_Driver_20ms_woCal', 'CM_SspWss', 'CM_SspWss_SignalExport', 'CM_TCS_AxleSplit_Honda', 'CM_TCS_CUS', 'CM_TCS_ESP', 'CM_VDC_ESP10_GBEV_AxleSplit_wMMS', 'CSM_CoreHoldService', 'CSM_CoreParkPawlService', 'CSM_CoreParkService', 'CSM_InterTaskPrimary', 'CSM_Post_LDM_DynamicArbitrator', 'CSM_PreCore', 'CSM_RequestWrapper', 'CSM_ReverseGearSwitchMonitoring', 'CSM_SafetyConnector20ms', 'CSM_SafetyConnector5ms', 'CSM_VSE', 'CSM_Wrapper', 'CSM_WrapperBrakeSystem', 'CSM_WrapperPowertrain', 'Connector_pTgtLimit_ESP',\n",
    "                  'DDR_20ms', 'DragTorqueController_preprocessing_5ms', 'Duration', 'Duration_Sec', 'Duty_u8',\n",
    "                  'EBP5ms', 'Esp10Cust_Honda_SignalExport',\n",
    "                  'FOF5ms', \n",
    "                  'GRC20ms',\n",
    "                  'HAZ_HazardWarning20ms', 'HBA_Main', 'HBB_HBC_Main', 'HDC_Main', 'HDC_STM', 'HDC_VxRef', 'HFC_Main', 'HGT_PATA_Task20ms', 'HHC20ms', 'HRB_Main','HSM20ms', 'Honda_ESS_20ms', 'Honda_MAEPS_20ms',\n",
    "                  'INS_Standalone_20ms', 'INS_Standalone_40ms',\n",
    "                  'LDI5ms', 'LDI_Arbitration', 'LDI_NoEstimation', 'LDI_TaskInterpolation', 'LDMConfiguration', 'LDMCoor', 'LDMCoor_Arbitrator_mesg', 'LDMFxVehConnectorESP5ms', 'LTCSas_40ms', 'LVMM5ms', 'Ltm_ESP9_Mod', 'LFI',\n",
    "                  'MBP_20ms', 'MBP_40ms', 'MVR_Main', 'Mode',\n",
    "                  'PBCA20ms', 'PMC_ESP9_20ms', 'PTActuator_20ms_SW9_AxleSplit', 'PTModel_20ms_AxleSplit', 'ParkBrakeControl_T10ms_VDA_2',\n",
    "                  'Qualifier_N',\n",
    "                  'RFE_CoreMueEstimation_20ms', 'RFE_MueReleaseModule', 'RxValue',\n",
    "                  'SSP_OBD_0', 'SasClass3_20ms', 'SspWssEsp_120ms', 'SspWssEsp_20ms', 'SspWssEsp_5ms', 'SspWssWithDir_20', 'Status',\n",
    "                  'TCS_Core', 'TCS_Core_CBDS', 'TCS_Core_Mon', 'TCS_Core_Out', 'TSC_SignalProcessing_ESPhevX', 'TxValue',\n",
    "                  'VDC_CCC', 'VDC_EUC', 'VDC_LAC_MassEstimation', 'VDC_LAC_VCH', 'VDC_TSM',\n",
    "                  '_PBC_BoschCbi_VDA_2',\n",
    "                  'ctCallsTotal_u32', 'current_task_cnt',\n",
    "                  'gross', 'gross_max',\n",
    "                  'id',\n",
    "                  'loadPer64k_u16',\n",
    "                  'resp_time', 'resp_time_max',\n",
    "                  'slack_time', 'slack_time_min', 'slack_time_min_resettable', 'slack_time_min_resettable_task_cnt', 'slack_time_min_task_cnt', 'state',\n",
    "                  'tiAvrgRT_u32', 'tiCurRT_u32', 'tiMaxRT_u32', 'tiMinRT_u32', 'ts_activation', 'ts_end', 'ts_start']\n",
    "\n",
    "l_REMOVE_w_GLOBAL = ['APBBUT', 'APBMotorLeft', 'APBMotorRight', 'ASCETADAPTER', 'Apb',\n",
    "                     'BAT',\n",
    "                     'CAX', 'CBCABS', 'CBDS', 'CCO', 'CSM', 'CanSBox', 'CanSM', 'CmdMbWheelTar', 'ComM', 'CtrlMode',\n",
    "                     'DEM', 'DISP', 'Dcm', 'Det', 'DiaMIDStatus',\n",
    "                     'ETA', 'EV',\n",
    "                     'FAULTYEVENT', 'FBC1', 'Fsl',\n",
    "                     'HMIGeneratorOutputState', 'HSV', 'HSW09', 'Honda',\n",
    "                     'IUMPR',\n",
    "                     'LCOPre', 'LDM', 'LDMCoor', 'LDMCor', 'LdmRequestMode', 'Ltm',\n",
    "                     'MEM', 'MPropPhys', 'MbDrvLdmReqWhl', 'MbWheelTtl', 'Mbp', 'MesRBNet', 'MonResER',\n",
    "                     'NetRXVar', 'NetTXVar', 'NvM',\n",
    "                     'OOL', 'ORDABS', 'OmegaF',\n",
    "                     'PbcDevelopmentMessage', 'PbcIn', 'PbcOut',\n",
    "                     'RBACM', 'RBADC', 'RBAPBMOT', 'RBAPLPLANT', 'RBAPPLIF', 'RBCBDS', 'RBDHP', 'RBDIO', 'RBGTM', 'RBHYDR', 'RBINS', 'RBMAD', 'RBMESG', 'RBMICAPB', 'RBPduHandler', 'RBRFP', 'RBRFPActDatLowend', 'RBSUPPLYBASE', 'RBSYS', 'RBVLV', 'RBVMI', 'RBVoltageHandler', 'RBWAU', 'RBWSS',\n",
    "                     'SMM', 'STM', 'SsmSelCon', 'Strategy',\n",
    "                     'VIRTUALNODEINVALID', 'VIRTUALNODEINVALIDFILTERED', 'VIRTUALNODENOTAVAILABLE', 'VIRTUALNODENOTINITIALIZED', 'VIRTUALNODESUSPICIOUS', 'VLC', 'VSE',\n",
    "                     'WSS',\n",
    "                     'Xc',\n",
    "                     'cc',\n",
    "                     'g', 'gs',\n",
    "                     'int',\n",
    "                     'ls',\n",
    "                     'pDrv',\n",
    "                     'rb', 'rba', 'rbgtm', 'rbvlv',\n",
    "                     'vF']"
   ]
  },
  {
   "cell_type": "code",
   "execution_count": 5,
   "metadata": {},
   "outputs": [
    {
     "name": "stdout",
     "output_type": "stream",
     "text": [
      "All: 81535\n",
      "Removed in Global: 57345\n",
      "Removed in Function: 34956\n",
      "'HAL5ms', 'VDC_Service', 'DTC_post', '_PT_34AA_FWD_0_0', 'VSE_5ms', 'AntiLockControl_20ms_Esp', 'PT_Actuator', 'VDC_RMF', 'VDC_ISS_BA_Bridge', 'AbsOes5ms_ESP', 'DTC_pre', 'ISS_BSC', 'CM_TCS_2Mot_AWDAxleSplit', 'CM_VSE_Cus', '_PT_34AA_FWD_0_1', 'DTC_SplitFA', 'CM_PT_Honda_2Mot_AWDAxleSplit', 'CM_DTC_TM_2EM_FA_RA', 'CM_HAL_ESP_5ms', 'DTC_single', 'VDC_ExternalInterface', 'HAL_5ms_MCo', 'DTC_pre_5ms', 'HAL120ms', 'VDC_ISS_BA_SetUp', 'VDC_ISS_BA_Core', 'VSE_20ms', 'PT_Model', 'Connector_VDC_TCS_Evo0507', 'VDC_TaskInterpolation', 'AbsCtrl5ms_ESP', 'DTC_SplitRA', 'CM_PT_Honda_2Mot_AWDAxleSplit_CUS', 'VDC_ISS_Legacy_Interface', \n",
      "Added with PLT: 34978\n",
      "c:\\mt\\Honda\\3DAA\\HILS\\34AA_BB89921_16020200_ESP1034AA89921.cfg\n"
     ]
    }
   ],
   "source": [
    "d_SIG_All = cfg.READ_A2L(FILE_A2L)\n",
    "print(f'All: {len(d_SIG_All)}')\n",
    "\n",
    "d_GLOBAL_KEY = cfg.SEARCH_GLOBAL_KEY(d_SIG_All)\n",
    "d_SIG = cfg.REMOVE_KEY(d_SIG_All, d_GLOBAL_KEY, l_REMOVE_w_GLOBAL)\n",
    "print(f'Removed in Global: {len(d_SIG)}')\n",
    "\n",
    "d_not_GLOBAL_KEY = cfg.SEARCH_not_GLOBAL_KEY(d_SIG)\n",
    "d_SIG = cfg.REMOVE_KEY(d_SIG, d_not_GLOBAL_KEY, l_REMOVE_w_FUN)\n",
    "print(f'Removed in Function: {len(d_SIG)}')\n",
    "cfg.REVIEW_FUN(d_SIG, 10)\n",
    "\n",
    "d_SIG = cfg.Add_Signal_with_PLT(d_SIG, d_SIG_All, PLT_LIST)\n",
    "print(f'Added with PLT: {len(d_SIG)}')\n",
    "\n",
    "cfg.WRITE_TXT(FILE_OUT, d_SIG, FILE_A2L, PLT_LIST, l_REMOVE_w_FUN, l_REMOVE_w_GLOBAL)"
   ]
  },
  {
   "cell_type": "code",
   "execution_count": null,
   "metadata": {},
   "outputs": [],
   "source": []
  },
  {
   "cell_type": "code",
   "execution_count": null,
   "metadata": {},
   "outputs": [],
   "source": []
  }
 ],
 "metadata": {
  "kernelspec": {
   "display_name": "Python 3",
   "language": "python",
   "name": "python3"
  },
  "language_info": {
   "codemirror_mode": {
    "name": "ipython",
    "version": 3
   },
   "file_extension": ".py",
   "mimetype": "text/x-python",
   "name": "python",
   "nbconvert_exporter": "python",
   "pygments_lexer": "ipython3",
   "version": "3.7.6"
  },
  "toc-autonumbering": true
 },
 "nbformat": 4,
 "nbformat_minor": 5
}
